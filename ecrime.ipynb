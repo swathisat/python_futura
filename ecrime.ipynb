{
  "nbformat": 4,
  "nbformat_minor": 0,
  "metadata": {
    "colab": {
      "name": "ecrime.ipynb",
      "provenance": [],
      "collapsed_sections": [],
      "mount_file_id": "1tCfTX3Qn0uS8ivbpvpli5AnRfi6pKHbb",
      "authorship_tag": "ABX9TyMB16gNReXlcxPFbhKnsxvM",
      "include_colab_link": true
    },
    "kernelspec": {
      "name": "python3",
      "display_name": "Python 3"
    },
    "language_info": {
      "name": "python"
    },
    "accelerator": "GPU"
  },
  "cells": [
    {
      "cell_type": "markdown",
      "metadata": {
        "id": "view-in-github",
        "colab_type": "text"
      },
      "source": [
        "<a href=\"https://colab.research.google.com/github/swathisat/python_futura/blob/main/ecrime.ipynb\" target=\"_parent\"><img src=\"https://colab.research.google.com/assets/colab-badge.svg\" alt=\"Open In Colab\"/></a>"
      ]
    },
    {
      "cell_type": "code",
      "execution_count": 12,
      "metadata": {
        "id": "AH-NGwTWyIuq"
      },
      "outputs": [],
      "source": [
        "import numpy as np\n",
        "import cv2\n",
        "import matplotlib.pyplot as plt\n",
        "import pandas as pd\n",
        "import tensorflow\n",
        "import glob\n",
        "import pathlib"
      ]
    },
    {
      "cell_type": "code",
      "source": [
        "img=pathlib.Path(\"/content/drive/MyDrive/Uploading Img\")"
      ],
      "metadata": {
        "id": "cKcybaOuE2H_"
      },
      "execution_count": 13,
      "outputs": []
    },
    {
      "cell_type": "code",
      "source": [
        "chunky_list=list(img.glob(\"chunky_panday/*\"))\n",
        "paresh_list=list(img.glob(\"paresh_rawal/*\"))\n",
        "pooja_list=list(img.glob(\"pooja_bhatt/*\"))\n",
        "rajkummar_list=list(img.glob(\"rajkummar_rao/*\"))\n",
        "tabu_list=list(img.glob(\"tabu/*\"))\n",
        "waheeda_list=list(img.glob(\"waheeda_rehman/*\"))\n"
      ],
      "metadata": {
        "id": "sOwKS5siG1lD"
      },
      "execution_count": 14,
      "outputs": []
    },
    {
      "cell_type": "code",
      "source": [
        "len(chunky_list),len(paresh_list),len(pooja_list),len(rajkummar_list),len(tabu_list),len(waheeda_list)"
      ],
      "metadata": {
        "colab": {
          "base_uri": "https://localhost:8080/"
        },
        "id": "f7wsheeuLai7",
        "outputId": "c4ec3029-4c66-40b9-ce4b-6b9b44c1f598"
      },
      "execution_count": 15,
      "outputs": [
        {
          "output_type": "execute_result",
          "data": {
            "text/plain": [
              "(50, 50, 50, 50, 50, 50)"
            ]
          },
          "metadata": {},
          "execution_count": 15
        }
      ]
    },
    {
      "cell_type": "code",
      "source": [
        "actor_dict={\"chunky_pandey\":chunky_list,\"paresh_rawal\":paresh_list,\"pooja_bhatt\":pooja_list,\"rajkummar_rao\":rajkummar_list,\"tabu\":tabu_list,\"waheeda_rahman\":waheeda_list}"
      ],
      "metadata": {
        "id": "unSdbdzPLalx"
      },
      "execution_count": 16,
      "outputs": []
    },
    {
      "cell_type": "code",
      "source": [
        "actor_class={'chunky_pandey':0,'paresh_rawal':1,'pooja_bhatt':2,'rajkummar_rao':3,'tabu':4,'waheeda_rahman':5}"
      ],
      "metadata": {
        "id": "uMz6fOuuT3_k"
      },
      "execution_count": 17,
      "outputs": []
    },
    {
      "cell_type": "code",
      "source": [
        "x=[]\n",
        "y=[]"
      ],
      "metadata": {
        "id": "uwgjA8IXU9A2"
      },
      "execution_count": 18,
      "outputs": []
    },
    {
      "cell_type": "code",
      "source": [
        "for i in actor_dict:\n",
        "  lib_name=i\n",
        "  pic_path_list=actor_dict[lib_name]\n",
        "  for path in pic_path_list:\n",
        "    img=cv2.imread(str(path))\n",
        "    img=cv2.resize(img,(150,150))\n",
        "    img=cv2.cvtColor(img,cv2.COLOR_BGR2RGB)\n",
        "    img=img/225\n",
        "    x.append(img)\n",
        "    y.append(actor_class[i])"
      ],
      "metadata": {
        "id": "6XVCjWCQWm2y"
      },
      "execution_count": 20,
      "outputs": []
    },
    {
      "cell_type": "code",
      "source": [
        "len(x),len(y)"
      ],
      "metadata": {
        "colab": {
          "base_uri": "https://localhost:8080/"
        },
        "id": "f7TE1gZEanxr",
        "outputId": "b8480f27-790a-4bc3-d418-d37f6bc64315"
      },
      "execution_count": 21,
      "outputs": [
        {
          "output_type": "execute_result",
          "data": {
            "text/plain": [
              "(600, 600)"
            ]
          },
          "metadata": {},
          "execution_count": 21
        }
      ]
    },
    {
      "cell_type": "code",
      "source": [
        "import numpy as np\n",
        "x=np.array(x)\n",
        "y=np.array(y)"
      ],
      "metadata": {
        "id": "EmQDqSUtbpMh"
      },
      "execution_count": 23,
      "outputs": []
    },
    {
      "cell_type": "code",
      "source": [
        "x.shape"
      ],
      "metadata": {
        "colab": {
          "base_uri": "https://localhost:8080/"
        },
        "id": "LF76H6-Xc4Le",
        "outputId": "ac61c89d-8dce-4d1e-87ac-6bf05411bace"
      },
      "execution_count": 24,
      "outputs": [
        {
          "output_type": "execute_result",
          "data": {
            "text/plain": [
              "(600, 150, 150, 3)"
            ]
          },
          "metadata": {},
          "execution_count": 24
        }
      ]
    },
    {
      "cell_type": "code",
      "source": [
        "y.shape"
      ],
      "metadata": {
        "colab": {
          "base_uri": "https://localhost:8080/"
        },
        "id": "M0hk7PjLdNaa",
        "outputId": "d6115605-b52a-4a58-b4fe-8f7220f420d2"
      },
      "execution_count": 25,
      "outputs": [
        {
          "output_type": "execute_result",
          "data": {
            "text/plain": [
              "(600,)"
            ]
          },
          "metadata": {},
          "execution_count": 25
        }
      ]
    },
    {
      "cell_type": "code",
      "source": [
        "from sklearn.model_selection import train_test_split\n",
        "xtrain,xtest,ytrain,ytest=train_test_split(x,y, test_size= .10,random_state=1)"
      ],
      "metadata": {
        "id": "_N5UHyNPeaKs"
      },
      "execution_count": 26,
      "outputs": []
    },
    {
      "cell_type": "code",
      "source": [
        "len(xtrain),len(ytrain),len(xtest),len(ytest)"
      ],
      "metadata": {
        "colab": {
          "base_uri": "https://localhost:8080/"
        },
        "id": "rax4F1CggB-c",
        "outputId": "0a5ee115-cd4d-4a8c-9541-e0ce076105b3"
      },
      "execution_count": 28,
      "outputs": [
        {
          "output_type": "execute_result",
          "data": {
            "text/plain": [
              "(540, 540, 60, 60)"
            ]
          },
          "metadata": {},
          "execution_count": 28
        }
      ]
    },
    {
      "cell_type": "code",
      "source": [
        "from tensorflow.keras import Sequential\n",
        "from tensorflow.keras.layers import Conv2D,Flatten,Dense,MaxPool2D\n",
        "from tensorflow.keras.optimizers import Adam\n",
        "import sklearn\n",
        "from mlxtend.plotting import plot_confusion_matrix\n",
        "from sklearn.metrics import confusion_matrix"
      ],
      "metadata": {
        "id": "O6ccj5VegroV"
      },
      "execution_count": 33,
      "outputs": []
    },
    {
      "cell_type": "code",
      "source": [
        ""
      ],
      "metadata": {
        "id": "Xo0Mgki2q1Is"
      },
      "execution_count": 33,
      "outputs": []
    },
    {
      "cell_type": "code",
      "source": [
        ""
      ],
      "metadata": {
        "id": "QcPaYueuq1ac"
      },
      "execution_count": null,
      "outputs": []
    }
  ]
}